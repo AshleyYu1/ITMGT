{
 "cells": [
  {
   "cell_type": "code",
   "execution_count": 2,
   "id": "26c6ed4f-0fde-49b0-8627-3e174b823bf8",
   "metadata": {},
   "outputs": [
    {
     "name": "stdout",
     "output_type": "stream",
     "text": [
      "Number of lines: 99968\n",
      "Number of words: 795227\n",
      "Occurrences of 'apostle': 47\n",
      "Most common word: the ( 64309 times )\n"
     ]
    }
   ],
   "source": [
    "import urllib.request\n",
    "import re\n",
    "from collections import Counter\n",
    "\n",
    "link = \"https://www.gutenberg.org/cache/epub/10/pg10.txt\"\n",
    "with urllib.request.urlopen(link) as response:\n",
    "    pg10 = response.read().decode(\"utf-8\")\n",
    "\n",
    "\n",
    "num_lines = len(pg10.splitlines())\n",
    "print(\"Number of lines:\", num_lines)\n",
    "\n",
    "words = re.findall(r\"[A-Za-z]+\", pg10)  \n",
    "num_words = len(words)\n",
    "print(\"Number of words:\", num_words)\n",
    "\n",
    "count_apostle = sum(1 for w in words if w.lower() == \"apostle\")\n",
    "print(\"Occurrences of 'apostle':\", count_apostle)\n",
    "\n",
    "words_lower = [w.lower() for w in words]\n",
    "word_counts = Counter(words_lower)\n",
    "most_common_word, most_common_count = word_counts.most_common(1)[0]\n",
    "print(\"Most common word:\", most_common_word, \"(\", most_common_count, \"times )\")\n"
   ]
  }
 ],
 "metadata": {
  "kernelspec": {
   "display_name": "Python [conda env:base] *",
   "language": "python",
   "name": "conda-base-py"
  },
  "language_info": {
   "codemirror_mode": {
    "name": "ipython",
    "version": 3
   },
   "file_extension": ".py",
   "mimetype": "text/x-python",
   "name": "python",
   "nbconvert_exporter": "python",
   "pygments_lexer": "ipython3",
   "version": "3.13.5"
  }
 },
 "nbformat": 4,
 "nbformat_minor": 5
}
